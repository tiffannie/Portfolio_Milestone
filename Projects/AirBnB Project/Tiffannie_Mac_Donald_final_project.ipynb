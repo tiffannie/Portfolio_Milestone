{
 "cells": [
  {
   "cell_type": "code",
   "execution_count": 20,
   "metadata": {
    "collapsed": true
   },
   "outputs": [],
   "source": [
    "import numpy as np\n",
    "import pandas as pd\n",
    "import matplotlib.pyplot as plt\n",
    "import seaborn as sns\n",
    "import datetime as dt\n",
    "\n",
    "# Draw inline\n",
    "%matplotlib inline"
   ]
  },
  {
   "cell_type": "code",
   "execution_count": 3,
   "metadata": {
    "collapsed": true
   },
   "outputs": [],
   "source": [
    "#load users\n",
    "users = pd.read_csv(r\"C:\\Users\\tmacd\\program1\\final\\train_users2.csv\")"
   ]
  },
  {
   "cell_type": "code",
   "execution_count": 4,
   "metadata": {},
   "outputs": [
    {
     "data": {
      "text/plain": [
       "id                              0\n",
       "date_account_created            0\n",
       "timestamp_first_active          0\n",
       "date_first_booking         124543\n",
       "gender                          0\n",
       "age                         87990\n",
       "signup_method                   0\n",
       "signup_flow                     0\n",
       "language                        0\n",
       "affiliate_channel               0\n",
       "affiliate_provider              0\n",
       "first_affiliate_tracked      6065\n",
       "signup_app                      0\n",
       "first_device_type               0\n",
       "first_browser                   0\n",
       "country_destination             0\n",
       "dtype: int64"
      ]
     },
     "execution_count": 4,
     "metadata": {},
     "output_type": "execute_result"
    }
   ],
   "source": [
    "#Data Cleaning\n",
    "#check for nulls\n",
    "users.isnull().sum()\n",
    "\n",
    "#date_first_booking shows users who did not mak"
   ]
  },
  {
   "cell_type": "code",
   "execution_count": 33,
   "metadata": {},
   "outputs": [
    {
     "name": "stderr",
     "output_type": "stream",
     "text": [
      "C:\\Users\\tmacd\\AppData\\Roaming\\Python\\Python36\\site-packages\\seaborn\\_decorators.py:43: FutureWarning: Pass the following variable as a keyword arg: x. From version 0.12, the only valid positional argument will be `data`, and passing other arguments without an explicit keyword will result in an error or misinterpretation.\n",
      "  FutureWarning\n"
     ]
    },
    {
     "data": {
      "image/png": "[encoded data removed]",
      "text/plain": [
       "<Figure size 432x288 with 1 Axes>"
      ]
     },
     "metadata": {},
     "output_type": "display_data"
    }
   ],
   "source": [
    "#examining age\n",
    "users['age'] = users['age'].dropna()\n",
    "\n",
    "age_plot = sns.countplot(users['age'])\n",
    "\n",
    "#limiting tick frequency for ease of readability \n",
    "#look how frickin' pretty\n",
    "for ind, label in enumerate(age_plot.get_xticklabels()):\n",
    "    if ind % 15 == 0:\n",
    "        label.set_visible(True)\n",
    "    else:\n",
    "        label.set_visible(False)"
   ]
  },
  {
   "cell_type": "code",
   "execution_count": 34,
   "metadata": {},
   "outputs": [
    {
     "data": {
      "text/plain": [
       "count    125461.000000\n",
       "mean         49.668335\n",
       "std         155.666612\n",
       "min           1.000000\n",
       "25%          28.000000\n",
       "50%          34.000000\n",
       "75%          43.000000\n",
       "max        2014.000000\n",
       "Name: age, dtype: float64"
      ]
     },
     "execution_count": 34,
     "metadata": {},
     "output_type": "execute_result"
    }
   ],
   "source": [
    "#it doesn't make sense to have ages at 1 and above 100 ???\n",
    "\n",
    "users['age'].describe()"
   ]
  },
  {
   "cell_type": "code",
   "execution_count": 36,
   "metadata": {
    "collapsed": true
   },
   "outputs": [],
   "source": [
    "#transform outliers into NaN. bye, felicia\n",
    "\n",
    "users.loc[users['age'] < 15, 'age'] = np.NaN\n",
    "users.loc[users['age'] > 100, 'age'] = np.NaN"
   ]
  },
  {
   "cell_type": "code",
   "execution_count": 37,
   "metadata": {},
   "outputs": [
    {
     "name": "stderr",
     "output_type": "stream",
     "text": [
      "C:\\Users\\tmacd\\AppData\\Roaming\\Python\\Python36\\site-packages\\seaborn\\_decorators.py:43: FutureWarning: Pass the following variable as a keyword arg: x. From version 0.12, the only valid positional argument will be `data`, and passing other arguments without an explicit keyword will result in an error or misinterpretation.\n",
      "  FutureWarning\n"
     ]
    },
    {
     "data": {
      "text/plain": [
       "<AxesSubplot:xlabel='gender', ylabel='count'>"
      ]
     },
     "execution_count": 37,
     "metadata": {},
     "output_type": "execute_result"
    },
    {
     "data": {
      "image/png": "[encoded data removed]",
      "text/plain": [
       "<Figure size 432x288 with 1 Axes>"
      ]
     },
     "metadata": {},
     "output_type": "display_data"
    }
   ],
   "source": [
    "sns.countplot(users['gender'], palette = \"deep\")"
   ]
  },
  {
   "cell_type": "code",
   "execution_count": 38,
   "metadata": {},
   "outputs": [
    {
     "name": "stderr",
     "output_type": "stream",
     "text": [
      "C:\\Users\\tmacd\\AppData\\Roaming\\Python\\Python36\\site-packages\\seaborn\\_decorators.py:43: FutureWarning: Pass the following variable as a keyword arg: x. From version 0.12, the only valid positional argument will be `data`, and passing other arguments without an explicit keyword will result in an error or misinterpretation.\n",
      "  FutureWarning\n"
     ]
    },
    {
     "data": {
      "text/plain": [
       "<AxesSubplot:xlabel='gender', ylabel='count'>"
      ]
     },
     "execution_count": 38,
     "metadata": {},
     "output_type": "execute_result"
    },
    {
     "data": {
      "image/png": "[encoded data removed]",
      "text/plain": [
       "<Figure size 432x288 with 1 Axes>"
      ]
     },
     "metadata": {},
     "output_type": "display_data"
    }
   ],
   "source": [
    "#unknowns?\n",
    "#change unknowns to NaN\n",
    "users.loc[users['gender'] == '-unknown-', 'gender'] = np.NaN\n",
    "sns.countplot(users['gender'],  palette = \"deep\")"
   ]
  },
  {
   "cell_type": "code",
   "execution_count": 39,
   "metadata": {},
   "outputs": [
    {
     "name": "stdout",
     "output_type": "stream",
     "text": [
      "63041 54440\n"
     ]
    }
   ],
   "source": [
    "f = sum(users['gender'] == 'FEMALE')\n",
    "m = sum(users['gender'] == 'MALE')\n",
    "print(f,m)\n",
    "\n",
    "#there are 63041 women and 54440 men"
   ]
  },
  {
   "cell_type": "code",
   "execution_count": 40,
   "metadata": {},
   "outputs": [
    {
     "data": {
      "text/html": [
       "<div>\n",
       "<style scoped>\n",
       "    .dataframe tbody tr th:only-of-type {\n",
       "        vertical-align: middle;\n",
       "    }\n",
       "\n",
       "    .dataframe tbody tr th {\n",
       "        vertical-align: top;\n",
       "    }\n",
       "\n",
       "    .dataframe thead th {\n",
       "        text-align: right;\n",
       "    }\n",
       "</style>\n",
       "<table border=\"1\" class=\"dataframe\">\n",
       "  <thead>\n",
       "    <tr style=\"text-align: right;\">\n",
       "      <th></th>\n",
       "      <th>na - countries</th>\n",
       "      <th>gender - countries</th>\n",
       "    </tr>\n",
       "  </thead>\n",
       "  <tbody>\n",
       "    <tr>\n",
       "      <th>NDF</th>\n",
       "      <td>69.674358</td>\n",
       "      <td>49.143619</td>\n",
       "    </tr>\n",
       "    <tr>\n",
       "      <th>US</th>\n",
       "      <td>21.015174</td>\n",
       "      <td>35.891579</td>\n",
       "    </tr>\n",
       "    <tr>\n",
       "      <th>other</th>\n",
       "      <td>3.625324</td>\n",
       "      <td>5.625706</td>\n",
       "    </tr>\n",
       "    <tr>\n",
       "      <th>FR</th>\n",
       "      <td>1.790193</td>\n",
       "      <td>2.810730</td>\n",
       "    </tr>\n",
       "    <tr>\n",
       "      <th>IT</th>\n",
       "      <td>1.086866</td>\n",
       "      <td>1.524248</td>\n",
       "    </tr>\n",
       "    <tr>\n",
       "      <th>GB</th>\n",
       "      <td>0.792158</td>\n",
       "      <td>1.329789</td>\n",
       "    </tr>\n",
       "    <tr>\n",
       "      <th>ES</th>\n",
       "      <td>0.747220</td>\n",
       "      <td>1.302616</td>\n",
       "    </tr>\n",
       "    <tr>\n",
       "      <th>CA</th>\n",
       "      <td>0.513126</td>\n",
       "      <td>0.795666</td>\n",
       "    </tr>\n",
       "    <tr>\n",
       "      <th>DE</th>\n",
       "      <td>0.296798</td>\n",
       "      <td>0.659800</td>\n",
       "    </tr>\n",
       "    <tr>\n",
       "      <th>NL</th>\n",
       "      <td>0.237229</td>\n",
       "      <td>0.454302</td>\n",
       "    </tr>\n",
       "    <tr>\n",
       "      <th>AU</th>\n",
       "      <td>0.149444</td>\n",
       "      <td>0.336269</td>\n",
       "    </tr>\n",
       "    <tr>\n",
       "      <th>PT</th>\n",
       "      <td>0.072109</td>\n",
       "      <td>0.125676</td>\n",
       "    </tr>\n",
       "  </tbody>\n",
       "</table>\n",
       "</div>"
      ],
      "text/plain": [
       "       na - countries  gender - countries\n",
       "NDF         69.674358           49.143619\n",
       "US          21.015174           35.891579\n",
       "other        3.625324            5.625706\n",
       "FR           1.790193            2.810730\n",
       "IT           1.086866            1.524248\n",
       "GB           0.792158            1.329789\n",
       "ES           0.747220            1.302616\n",
       "CA           0.513126            0.795666\n",
       "DE           0.296798            0.659800\n",
       "NL           0.237229            0.454302\n",
       "AU           0.149444            0.336269\n",
       "PT           0.072109            0.125676"
      ]
     },
     "execution_count": 40,
     "metadata": {},
     "output_type": "execute_result"
    }
   ],
   "source": [
    "#any trend in country destinations in users who put NaN as their gender?\n",
    "\n",
    "#total number who have NaN genders, and their destinations (proportional)\n",
    "na_genders = users.loc[users['gender'].isna(), 'country_destination'].value_counts().sum()\n",
    "na_gender_countries = users.loc[users['gender'].isna(), 'country_destination'].value_counts() / na_genders * 100\n",
    "\n",
    "#non NaN country destinations (proportional)\n",
    "complete_genders = users.loc[users['gender'].notnull(), 'country_destination'].value_counts().sum()\n",
    "complete_gender_countries = users.loc[users['gender'].notnull(), 'country_destination'].value_counts() / complete_genders * 100\n",
    "\n",
    "compared_na_genders = pd.concat([na_gender_countries, complete_gender_countries], axis = 1)\n",
    "compared_na_genders.columns = ['na - countries', 'gender - countries']\n",
    "compared_na_genders\n",
    "\n",
    "#so definitely greater proportion of folks who have NaN as a gender don't book \n",
    "#    a trip anywhere"
   ]
  },
  {
   "cell_type": "code",
   "execution_count": 41,
   "metadata": {},
   "outputs": [
    {
     "data": {
      "text/html": [
       "<div>\n",
       "<style scoped>\n",
       "    .dataframe tbody tr th:only-of-type {\n",
       "        vertical-align: middle;\n",
       "    }\n",
       "\n",
       "    .dataframe tbody tr th {\n",
       "        vertical-align: top;\n",
       "    }\n",
       "\n",
       "    .dataframe thead th {\n",
       "        text-align: right;\n",
       "    }\n",
       "</style>\n",
       "<table border=\"1\" class=\"dataframe\">\n",
       "  <thead>\n",
       "    <tr style=\"text-align: right;\">\n",
       "      <th></th>\n",
       "      <th>female destinations</th>\n",
       "      <th>male destinations</th>\n",
       "    </tr>\n",
       "  </thead>\n",
       "  <tbody>\n",
       "    <tr>\n",
       "      <th>NDF</th>\n",
       "      <td>49.250488</td>\n",
       "      <td>49.079721</td>\n",
       "    </tr>\n",
       "    <tr>\n",
       "      <th>US</th>\n",
       "      <td>35.998794</td>\n",
       "      <td>35.740265</td>\n",
       "    </tr>\n",
       "    <tr>\n",
       "      <th>other</th>\n",
       "      <td>5.012611</td>\n",
       "      <td>6.324394</td>\n",
       "    </tr>\n",
       "    <tr>\n",
       "      <th>FR</th>\n",
       "      <td>3.112260</td>\n",
       "      <td>2.452241</td>\n",
       "    </tr>\n",
       "    <tr>\n",
       "      <th>IT</th>\n",
       "      <td>1.730620</td>\n",
       "      <td>1.283982</td>\n",
       "    </tr>\n",
       "    <tr>\n",
       "      <th>GB</th>\n",
       "      <td>1.397503</td>\n",
       "      <td>1.252755</td>\n",
       "    </tr>\n",
       "    <tr>\n",
       "      <th>ES</th>\n",
       "      <td>1.353088</td>\n",
       "      <td>1.243571</td>\n",
       "    </tr>\n",
       "    <tr>\n",
       "      <th>CA</th>\n",
       "      <td>0.721753</td>\n",
       "      <td>0.876194</td>\n",
       "    </tr>\n",
       "    <tr>\n",
       "      <th>DE</th>\n",
       "      <td>0.567884</td>\n",
       "      <td>0.764144</td>\n",
       "    </tr>\n",
       "    <tr>\n",
       "      <th>NL</th>\n",
       "      <td>0.402912</td>\n",
       "      <td>0.510654</td>\n",
       "    </tr>\n",
       "    <tr>\n",
       "      <th>AU</th>\n",
       "      <td>0.328358</td>\n",
       "      <td>0.345334</td>\n",
       "    </tr>\n",
       "    <tr>\n",
       "      <th>PT</th>\n",
       "      <td>0.123729</td>\n",
       "      <td>0.126745</td>\n",
       "    </tr>\n",
       "  </tbody>\n",
       "</table>\n",
       "</div>"
      ],
      "text/plain": [
       "       female destinations  male destinations\n",
       "NDF              49.250488          49.079721\n",
       "US               35.998794          35.740265\n",
       "other             5.012611           6.324394\n",
       "FR                3.112260           2.452241\n",
       "IT                1.730620           1.283982\n",
       "GB                1.397503           1.252755\n",
       "ES                1.353088           1.243571\n",
       "CA                0.721753           0.876194\n",
       "DE                0.567884           0.764144\n",
       "NL                0.402912           0.510654\n",
       "AU                0.328358           0.345334\n",
       "PT                0.123729           0.126745"
      ]
     },
     "execution_count": 41,
     "metadata": {},
     "output_type": "execute_result"
    }
   ],
   "source": [
    "\n",
    "#find number of female and male users\n",
    "\n",
    "female = users.loc[users['gender'] == 'FEMALE', 'country_destination'].value_counts().sum()\n",
    "male = users.loc[users['gender'] == 'MALE', 'country_destination'].value_counts().sum()\n",
    "\n",
    "#scale according to total numbers of female and male users\n",
    "\n",
    "female_destinations = users.loc[users['gender'] == 'FEMALE', 'country_destination'].value_counts() / female * 100\n",
    "male_destinations = users.loc[users['gender'] == 'MALE', 'country_destination'].value_counts() / male * 100\n",
    "\n",
    "gender_dest = pd.concat([female_destinations, male_destinations], axis=1)\n",
    "gender_dest.columns = ['female destinations', 'male destinations']\n",
    "gender_dest"
   ]
  },
  {
   "cell_type": "code",
   "execution_count": 42,
   "metadata": {},
   "outputs": [
    {
     "data": {
      "text/plain": [
       "Text(0, 0.5, 'Percentage')"
      ]
     },
     "execution_count": 42,
     "metadata": {},
     "output_type": "execute_result"
    },
    {
     "data": {
      "image/png": "[encoded data removed]",
      "text/plain": [
       "<Figure size 432x288 with 1 Axes>"
      ]
     },
     "metadata": {},
     "output_type": "display_data"
    }
   ],
   "source": [
    "ax = gender_dest.plot.bar(colormap = 'jet', title = 'Percentage of Gender Per Destination')\n",
    "ax.set_xlabel(\"Country Destination\")\n",
    "ax.set_ylabel(\"Percentage\")\n",
    "\n",
    "# Looks just about the same for both groups - nothing stands out here"
   ]
  },
  {
   "cell_type": "code",
   "execution_count": 43,
   "metadata": {},
   "outputs": [
    {
     "name": "stdout",
     "output_type": "stream",
     "text": [
      "Date Account Created \n",
      " 121263   2013-11-02\n",
      "13162    2011-11-28\n",
      "147212   2014-01-29\n",
      "Name: date_account_created, dtype: datetime64[ns]\n",
      "\n",
      "\n",
      "Date of First Booking \n",
      " 153979   2014-02-18\n",
      "160589          NaT\n",
      "149013          NaT\n",
      "Name: date_first_booking, dtype: datetime64[ns]\n"
     ]
    }
   ],
   "source": [
    "#checking what format the dates are in, as they're not in timestamp form (from users.dtypes)\n",
    "\n",
    "print(\"Date Account Created\",\"\\n\", users['date_account_created'].sample(3))\n",
    "print(\"\\n\")\n",
    "print(\"Date of First Booking\", \"\\n\", users['date_first_booking'].sample(3))"
   ]
  },
  {
   "cell_type": "code",
   "execution_count": 44,
   "metadata": {},
   "outputs": [
    {
     "name": "stderr",
     "output_type": "stream",
     "text": [
      "C:\\Users\\tmacd\\Anaconda3\\lib\\site-packages\\ipykernel_launcher.py:6: FutureWarning: Treating datetime data as categorical rather than numeric in `.describe` is deprecated and will be removed in a future version of pandas. Specify `datetime_is_numeric=True` to silence this warning and adopt the future behavior now.\n",
      "  \n"
     ]
    },
    {
     "data": {
      "text/plain": [
       "count                  213451\n",
       "unique                   1634\n",
       "top       2014-05-13 00:00:00\n",
       "freq                      674\n",
       "first     2010-01-01 00:00:00\n",
       "last      2014-06-30 00:00:00\n",
       "Name: date_account_created, dtype: object"
      ]
     },
     "execution_count": 44,
     "metadata": {},
     "output_type": "execute_result"
    }
   ],
   "source": [
    "#convert dates to proper datetime notation\n",
    "\n",
    "users['date_account_created'] = pd.to_datetime(users['date_account_created'], format = '%Y-%m-%d', errors='coerce')\n",
    "users['date_first_booking'] = pd.to_datetime(users['date_first_booking'], format = '%Y-%m-%d', errors='coerce')\n",
    "\n",
    "users['date_account_created'].describe()"
   ]
  },
  {
   "cell_type": "code",
   "execution_count": 45,
   "metadata": {},
   "outputs": [
    {
     "name": "stdout",
     "output_type": "stream",
     "text": [
      "Average length between account creation & first booking: 44 days 08:41:59.854231340\n"
     ]
    }
   ],
   "source": [
    "#finding average length between account created and first boooking \n",
    "users['Difference'] = users['date_first_booking'] - users['date_account_created']\n",
    "print(\"Average length between account creation & first booking:\", users['Difference'].mean())"
   ]
  },
  {
   "cell_type": "code",
   "execution_count": 46,
   "metadata": {},
   "outputs": [
    {
     "data": {
      "text/plain": [
       "count                         88908\n",
       "mean     44 days 08:41:59.854231340\n",
       "std      87 days 11:59:22.090141649\n",
       "min             -349 days +00:00:00\n",
       "25%                 1 days 00:00:00\n",
       "50%                 3 days 00:00:00\n",
       "75%                29 days 00:00:00\n",
       "max               365 days 00:00:00\n",
       "Name: Difference, dtype: object"
      ]
     },
     "execution_count": 46,
     "metadata": {},
     "output_type": "execute_result"
    }
   ],
   "source": [
    "users['Difference'].describe()\n",
    "\n",
    "#How are there negative days between account creation & first booking?"
   ]
  },
  {
   "cell_type": "code",
   "execution_count": 47,
   "metadata": {},
   "outputs": [
    {
     "data": {
      "text/html": [
       "<div>\n",
       "<style scoped>\n",
       "    .dataframe tbody tr th:only-of-type {\n",
       "        vertical-align: middle;\n",
       "    }\n",
       "\n",
       "    .dataframe tbody tr th {\n",
       "        vertical-align: top;\n",
       "    }\n",
       "\n",
       "    .dataframe thead th {\n",
       "        text-align: right;\n",
       "    }\n",
       "</style>\n",
       "<table border=\"1\" class=\"dataframe\">\n",
       "  <thead>\n",
       "    <tr style=\"text-align: right;\">\n",
       "      <th></th>\n",
       "      <th>id</th>\n",
       "      <th>date_account_created</th>\n",
       "      <th>timestamp_first_active</th>\n",
       "      <th>date_first_booking</th>\n",
       "      <th>gender</th>\n",
       "      <th>age</th>\n",
       "      <th>signup_method</th>\n",
       "      <th>signup_flow</th>\n",
       "      <th>language</th>\n",
       "      <th>affiliate_channel</th>\n",
       "      <th>affiliate_provider</th>\n",
       "      <th>first_affiliate_tracked</th>\n",
       "      <th>signup_app</th>\n",
       "      <th>first_device_type</th>\n",
       "      <th>first_browser</th>\n",
       "      <th>country_destination</th>\n",
       "      <th>Difference</th>\n",
       "      <th>OG_Difference</th>\n",
       "      <th>First Lag</th>\n",
       "    </tr>\n",
       "  </thead>\n",
       "  <tbody>\n",
       "    <tr>\n",
       "      <th>31851</th>\n",
       "      <td>vwrrgjr1h4</td>\n",
       "      <td>2012-08-29</td>\n",
       "      <td>2012-07-13</td>\n",
       "      <td>2012-07-21</td>\n",
       "      <td>FEMALE</td>\n",
       "      <td>40.0</td>\n",
       "      <td>basic</td>\n",
       "      <td>0</td>\n",
       "      <td>en</td>\n",
       "      <td>direct</td>\n",
       "      <td>direct</td>\n",
       "      <td>untracked</td>\n",
       "      <td>Web</td>\n",
       "      <td>Windows Desktop</td>\n",
       "      <td>IE</td>\n",
       "      <td>US</td>\n",
       "      <td>-39 days</td>\n",
       "      <td>8 days</td>\n",
       "      <td>47 days</td>\n",
       "    </tr>\n",
       "    <tr>\n",
       "      <th>35897</th>\n",
       "      <td>sxbrpl4sve</td>\n",
       "      <td>2012-08-28</td>\n",
       "      <td>2012-08-10</td>\n",
       "      <td>2012-08-10</td>\n",
       "      <td>MALE</td>\n",
       "      <td>NaN</td>\n",
       "      <td>basic</td>\n",
       "      <td>0</td>\n",
       "      <td>en</td>\n",
       "      <td>direct</td>\n",
       "      <td>direct</td>\n",
       "      <td>untracked</td>\n",
       "      <td>Web</td>\n",
       "      <td>Windows Desktop</td>\n",
       "      <td>Chrome</td>\n",
       "      <td>US</td>\n",
       "      <td>-18 days</td>\n",
       "      <td>0 days</td>\n",
       "      <td>18 days</td>\n",
       "    </tr>\n",
       "    <tr>\n",
       "      <th>12654</th>\n",
       "      <td>zrt9c49q6s</td>\n",
       "      <td>2011-11-19</td>\n",
       "      <td>2011-11-15</td>\n",
       "      <td>2011-11-16</td>\n",
       "      <td>MALE</td>\n",
       "      <td>57.0</td>\n",
       "      <td>basic</td>\n",
       "      <td>3</td>\n",
       "      <td>en</td>\n",
       "      <td>direct</td>\n",
       "      <td>direct</td>\n",
       "      <td>untracked</td>\n",
       "      <td>Web</td>\n",
       "      <td>Windows Desktop</td>\n",
       "      <td>IE</td>\n",
       "      <td>US</td>\n",
       "      <td>-3 days</td>\n",
       "      <td>1 days</td>\n",
       "      <td>4 days</td>\n",
       "    </tr>\n",
       "    <tr>\n",
       "      <th>56207</th>\n",
       "      <td>s5md0xwree</td>\n",
       "      <td>2013-01-27</td>\n",
       "      <td>2013-01-16</td>\n",
       "      <td>2013-01-16</td>\n",
       "      <td>FEMALE</td>\n",
       "      <td>41.0</td>\n",
       "      <td>facebook</td>\n",
       "      <td>0</td>\n",
       "      <td>en</td>\n",
       "      <td>sem-brand</td>\n",
       "      <td>google</td>\n",
       "      <td>omg</td>\n",
       "      <td>Web</td>\n",
       "      <td>Mac Desktop</td>\n",
       "      <td>Firefox</td>\n",
       "      <td>US</td>\n",
       "      <td>-11 days</td>\n",
       "      <td>0 days</td>\n",
       "      <td>11 days</td>\n",
       "    </tr>\n",
       "    <tr>\n",
       "      <th>36380</th>\n",
       "      <td>zc6l2r2t71</td>\n",
       "      <td>2012-11-08</td>\n",
       "      <td>2012-08-14</td>\n",
       "      <td>2012-08-15</td>\n",
       "      <td>MALE</td>\n",
       "      <td>51.0</td>\n",
       "      <td>facebook</td>\n",
       "      <td>12</td>\n",
       "      <td>en</td>\n",
       "      <td>api</td>\n",
       "      <td>other</td>\n",
       "      <td>untracked</td>\n",
       "      <td>iOS</td>\n",
       "      <td>iPhone</td>\n",
       "      <td>-unknown-</td>\n",
       "      <td>other</td>\n",
       "      <td>-85 days</td>\n",
       "      <td>1 days</td>\n",
       "      <td>86 days</td>\n",
       "    </tr>\n",
       "  </tbody>\n",
       "</table>\n",
       "</div>"
      ],
      "text/plain": [
       "               id date_account_created timestamp_first_active  \\\n",
       "31851  vwrrgjr1h4           2012-08-29             2012-07-13   \n",
       "35897  sxbrpl4sve           2012-08-28             2012-08-10   \n",
       "12654  zrt9c49q6s           2011-11-19             2011-11-15   \n",
       "56207  s5md0xwree           2013-01-27             2013-01-16   \n",
       "36380  zc6l2r2t71           2012-11-08             2012-08-14   \n",
       "\n",
       "      date_first_booking  gender   age signup_method  signup_flow language  \\\n",
       "31851         2012-07-21  FEMALE  40.0         basic            0       en   \n",
       "35897         2012-08-10    MALE   NaN         basic            0       en   \n",
       "12654         2011-11-16    MALE  57.0         basic            3       en   \n",
       "56207         2013-01-16  FEMALE  41.0      facebook            0       en   \n",
       "36380         2012-08-15    MALE  51.0      facebook           12       en   \n",
       "\n",
       "      affiliate_channel affiliate_provider first_affiliate_tracked signup_app  \\\n",
       "31851            direct             direct               untracked        Web   \n",
       "35897            direct             direct               untracked        Web   \n",
       "12654            direct             direct               untracked        Web   \n",
       "56207         sem-brand             google                     omg        Web   \n",
       "36380               api              other               untracked        iOS   \n",
       "\n",
       "      first_device_type first_browser country_destination Difference  \\\n",
       "31851   Windows Desktop            IE                  US   -39 days   \n",
       "35897   Windows Desktop        Chrome                  US   -18 days   \n",
       "12654   Windows Desktop            IE                  US    -3 days   \n",
       "56207       Mac Desktop       Firefox                  US   -11 days   \n",
       "36380            iPhone     -unknown-               other   -85 days   \n",
       "\n",
       "      OG_Difference First Lag  \n",
       "31851        8 days   47 days  \n",
       "35897        0 days   18 days  \n",
       "12654        1 days    4 days  \n",
       "56207        0 days   11 days  \n",
       "36380        1 days   86 days  "
      ]
     },
     "execution_count": 47,
     "metadata": {},
     "output_type": "execute_result"
    }
   ],
   "source": [
    "users[users['Difference'] < pd.Timedelta(0)].sample(5)\n",
    "\n",
    "#strange - looks like either AirBnb allows you book before creating an account, or this data has been entered incorrectly\n",
    "#for now, going to disregard - but note the date columns might not be entirely trustworthy\n",
    "#upon futhur research, can replace date values as needed"
   ]
  },
  {
   "cell_type": "code",
   "execution_count": 48,
   "metadata": {},
   "outputs": [
    {
     "name": "stderr",
     "output_type": "stream",
     "text": [
      "C:\\Users\\tmacd\\AppData\\Roaming\\Python\\Python36\\site-packages\\seaborn\\_decorators.py:43: FutureWarning: Pass the following variable as a keyword arg: x. From version 0.12, the only valid positional argument will be `data`, and passing other arguments without an explicit keyword will result in an error or misinterpretation.\n",
      "  FutureWarning\n",
      "C:\\Users\\tmacd\\AppData\\Roaming\\Python\\Python36\\site-packages\\seaborn\\_decorators.py:43: FutureWarning: Pass the following variable as a keyword arg: x. From version 0.12, the only valid positional argument will be `data`, and passing other arguments without an explicit keyword will result in an error or misinterpretation.\n",
      "  FutureWarning\n",
      "C:\\Users\\tmacd\\Anaconda3\\lib\\site-packages\\ipykernel_launcher.py:18: UserWarning: Matplotlib is currently using module://ipykernel.pylab.backend_inline, which is a non-GUI backend, so cannot show the figure.\n"
     ]
    },
    {
     "data": {
      "image/png": "[encoded data removed]",
      "text/plain": [
       "<Figure size 1440x504 with 2 Axes>"
      ]
     },
     "metadata": {},
     "output_type": "display_data"
    }
   ],
   "source": [
    "# visualize dates that accounts are created, and the first booking happens\n",
    "\n",
    "grouped_create_date = users['date_account_created'].dt.year\n",
    "grouped_first_date = users['date_first_booking'].dt.year\n",
    "\n",
    "fig, ax = plt.subplots(1,2, figsize=(20, 7))\n",
    "sns.countplot((grouped_create_date), ax=ax[0], hue = users['country_destination'])\n",
    "sns.countplot((grouped_first_date), ax=ax[1], hue = users['country_destination'])\n",
    "\n",
    "ax[0].set_xlabel('Date of Account Creation')\n",
    "ax[0].set_ylabel('Number of Created Accounts')\n",
    "ax[0].set_title('Accounts Created')\n",
    "\n",
    "ax[1].set_xlabel('Date of First Booking')\n",
    "ax[1].set_ylabel('Number of Bookings')\n",
    "ax[1].set_title('Bookings')\n",
    "\n",
    "fig.show()"
   ]
  },
  {
   "cell_type": "code",
   "execution_count": 52,
   "metadata": {
    "collapsed": true
   },
   "outputs": [],
   "source": [
    "#now to correct the format of 'timestamp_first_active'\n",
    "#TEST \n",
    "#print(type(users['timestamp_first_active'][0]))\n",
    "#print(users['timestamp_first_active'].sample(2))\n",
    "\n",
    "#users['timestamp_first_active'] = pd.to_datetime((users['timestamp_first_active']//1000000), format='%Y%m%d')"
   ]
  },
  {
   "cell_type": "code",
   "execution_count": 51,
   "metadata": {},
   "outputs": [
    {
     "name": "stdout",
     "output_type": "stream",
     "text": [
      "Average length between account first active & first booking: 44 days 16:36:44.022135241\n",
      "Average length between account first active & date account created: 0 days 05:33:49.162664967\n"
     ]
    },
    {
     "data": {
      "text/plain": [
       "count                        213451\n",
       "mean      0 days 05:33:49.162664967\n",
       "std      11 days 22:45:41.307539071\n",
       "min                 0 days 00:00:00\n",
       "25%                 0 days 00:00:00\n",
       "50%                 0 days 00:00:00\n",
       "75%                 0 days 00:00:00\n",
       "max              1456 days 00:00:00\n",
       "Name: First Lag, dtype: object"
      ]
     },
     "execution_count": 51,
     "metadata": {},
     "output_type": "execute_result"
    }
   ],
   "source": [
    "#finding average length between first active day and account creation\n",
    "\n",
    "users['OG_Difference'] = users['date_first_booking'] - users['timestamp_first_active']\n",
    "print(\"Average length between account first active & first booking:\", users['OG_Difference'].mean())\n",
    "\n",
    "#looks to be about the same as account creation & first booking - are account creation & first active very similar same?\n",
    "\n",
    "users['First Lag'] = users['date_account_created'] - users['timestamp_first_active']\n",
    "print(\"Average length between account first active & date account created:\", users['First Lag'].mean())\n",
    "\n",
    "#Looks like most people created their account on the same day they were first active\n",
    "\n",
    "users['First Lag'].describe()\n",
    "\n",
    "#although one user waited 1456 days after they were first active to create an account!"
   ]
  },
  {
   "cell_type": "code",
   "execution_count": 53,
   "metadata": {},
   "outputs": [
    {
     "name": "stderr",
     "output_type": "stream",
     "text": [
      "C:\\Users\\tmacd\\AppData\\Roaming\\Python\\Python36\\site-packages\\seaborn\\_decorators.py:43: FutureWarning: Pass the following variable as a keyword arg: x. From version 0.12, the only valid positional argument will be `data`, and passing other arguments without an explicit keyword will result in an error or misinterpretation.\n",
      "  FutureWarning\n"
     ]
    },
    {
     "data": {
      "text/plain": [
       "<matplotlib.legend.Legend at 0x21d253de780>"
      ]
     },
     "execution_count": 53,
     "metadata": {},
     "output_type": "execute_result"
    },
    {
     "data": {
      "image/png": "[encoded data removed]",
      "text/plain": [
       "<Figure size 432x288 with 1 Axes>"
      ]
     },
     "metadata": {},
     "output_type": "display_data"
    }
   ],
   "source": [
    "#explore categorical variables - do any have initial trends?\n",
    "\n",
    "sns.countplot(users['signup_method'], hue = users['country_destination'])\n",
    "\n",
    "#setting legend outside of display box\n",
    "plt.legend(bbox_to_anchor=(1.05, 1), loc=2, borderaxespad=0.)"
   ]
  },
  {
   "cell_type": "code",
   "execution_count": 54,
   "metadata": {},
   "outputs": [
    {
     "name": "stderr",
     "output_type": "stream",
     "text": [
      "C:\\Users\\tmacd\\AppData\\Roaming\\Python\\Python36\\site-packages\\seaborn\\_decorators.py:43: FutureWarning: Pass the following variable as a keyword arg: x. From version 0.12, the only valid positional argument will be `data`, and passing other arguments without an explicit keyword will result in an error or misinterpretation.\n",
      "  FutureWarning\n"
     ]
    },
    {
     "data": {
      "text/plain": [
       "<matplotlib.legend.Legend at 0x21d2313e320>"
      ]
     },
     "execution_count": 54,
     "metadata": {},
     "output_type": "execute_result"
    },
    {
     "data": {
      "image/png": "[encoded data removed]",
      "text/plain": [
       "<Figure size 432x288 with 1 Axes>"
      ]
     },
     "metadata": {},
     "output_type": "display_data"
    }
   ],
   "source": [
    "sns.countplot(users['signup_app'], hue = users['country_destination'])\n",
    "\n",
    "#setting legend outside of display box\n",
    "plt.legend(bbox_to_anchor=(1.05, 1), loc=2, borderaxespad=0.)"
   ]
  },
  {
   "cell_type": "code",
   "execution_count": 55,
   "metadata": {},
   "outputs": [
    {
     "data": {
      "text/html": [
       "<div>\n",
       "<style scoped>\n",
       "    .dataframe tbody tr th:only-of-type {\n",
       "        vertical-align: middle;\n",
       "    }\n",
       "\n",
       "    .dataframe tbody tr th {\n",
       "        vertical-align: top;\n",
       "    }\n",
       "\n",
       "    .dataframe thead th {\n",
       "        text-align: right;\n",
       "    }\n",
       "</style>\n",
       "<table border=\"1\" class=\"dataframe\">\n",
       "  <thead>\n",
       "    <tr style=\"text-align: right;\">\n",
       "      <th></th>\n",
       "      <th>Mac Desktop</th>\n",
       "      <th>Windows Desktop</th>\n",
       "      <th>iPhone</th>\n",
       "      <th>iPad</th>\n",
       "      <th>Other/Unknown</th>\n",
       "      <th>Android Phone</th>\n",
       "      <th>Android Tablet</th>\n",
       "      <th>Desktop (Other)</th>\n",
       "      <th>SmartPhone (Other)</th>\n",
       "    </tr>\n",
       "  </thead>\n",
       "  <tbody>\n",
       "    <tr>\n",
       "      <th>first_device_type</th>\n",
       "      <td>89600</td>\n",
       "      <td>72716</td>\n",
       "      <td>20759</td>\n",
       "      <td>14339</td>\n",
       "      <td>10667</td>\n",
       "      <td>2803</td>\n",
       "      <td>1292</td>\n",
       "      <td>1199</td>\n",
       "      <td>76</td>\n",
       "    </tr>\n",
       "  </tbody>\n",
       "</table>\n",
       "</div>"
      ],
      "text/plain": [
       "                   Mac Desktop  Windows Desktop  iPhone   iPad  Other/Unknown  \\\n",
       "first_device_type        89600            72716   20759  14339          10667   \n",
       "\n",
       "                   Android Phone  Android Tablet  Desktop (Other)  \\\n",
       "first_device_type           2803            1292             1199   \n",
       "\n",
       "                   SmartPhone (Other)  \n",
       "first_device_type                  76  "
      ]
     },
     "execution_count": 55,
     "metadata": {},
     "output_type": "execute_result"
    }
   ],
   "source": [
    "#use transpose to show items across columns rather than rows\n",
    "first_device_type = users['first_device_type'].value_counts()\n",
    "pd.DataFrame(first_device_type).transpose()"
   ]
  },
  {
   "cell_type": "code",
   "execution_count": 56,
   "metadata": {},
   "outputs": [
    {
     "data": {
      "text/html": [
       "<div>\n",
       "<style scoped>\n",
       "    .dataframe tbody tr th:only-of-type {\n",
       "        vertical-align: middle;\n",
       "    }\n",
       "\n",
       "    .dataframe tbody tr th {\n",
       "        vertical-align: top;\n",
       "    }\n",
       "\n",
       "    .dataframe thead th {\n",
       "        text-align: right;\n",
       "    }\n",
       "</style>\n",
       "<table border=\"1\" class=\"dataframe\">\n",
       "  <thead>\n",
       "    <tr style=\"text-align: right;\">\n",
       "      <th></th>\n",
       "      <th>en</th>\n",
       "      <th>zh</th>\n",
       "      <th>fr</th>\n",
       "      <th>es</th>\n",
       "      <th>ko</th>\n",
       "      <th>de</th>\n",
       "      <th>it</th>\n",
       "      <th>ru</th>\n",
       "      <th>pt</th>\n",
       "      <th>ja</th>\n",
       "      <th>...</th>\n",
       "      <th>cs</th>\n",
       "      <th>no</th>\n",
       "      <th>th</th>\n",
       "      <th>el</th>\n",
       "      <th>id</th>\n",
       "      <th>hu</th>\n",
       "      <th>fi</th>\n",
       "      <th>ca</th>\n",
       "      <th>is</th>\n",
       "      <th>hr</th>\n",
       "    </tr>\n",
       "  </thead>\n",
       "  <tbody>\n",
       "    <tr>\n",
       "      <th>language</th>\n",
       "      <td>206314</td>\n",
       "      <td>1632</td>\n",
       "      <td>1172</td>\n",
       "      <td>915</td>\n",
       "      <td>747</td>\n",
       "      <td>732</td>\n",
       "      <td>514</td>\n",
       "      <td>389</td>\n",
       "      <td>240</td>\n",
       "      <td>225</td>\n",
       "      <td>...</td>\n",
       "      <td>32</td>\n",
       "      <td>30</td>\n",
       "      <td>24</td>\n",
       "      <td>24</td>\n",
       "      <td>22</td>\n",
       "      <td>18</td>\n",
       "      <td>14</td>\n",
       "      <td>5</td>\n",
       "      <td>5</td>\n",
       "      <td>2</td>\n",
       "    </tr>\n",
       "  </tbody>\n",
       "</table>\n",
       "<p>1 rows × 25 columns</p>\n",
       "</div>"
      ],
      "text/plain": [
       "              en    zh    fr   es   ko   de   it   ru   pt   ja  ...  cs  no  \\\n",
       "language  206314  1632  1172  915  747  732  514  389  240  225  ...  32  30   \n",
       "\n",
       "          th  el  id  hu  fi  ca  is  hr  \n",
       "language  24  24  22  18  14   5   5   2  \n",
       "\n",
       "[1 rows x 25 columns]"
      ]
     },
     "execution_count": 56,
     "metadata": {},
     "output_type": "execute_result"
    }
   ],
   "source": [
    "\n",
    "language = users['language'].value_counts()\n",
    "pd.DataFrame(language).transpose()"
   ]
  },
  {
   "cell_type": "code",
   "execution_count": 57,
   "metadata": {
    "collapsed": true
   },
   "outputs": [],
   "source": [
    "########################\n",
    "#DO NOT GO PAST HERE\n",
    "########################"
   ]
  },
  {
   "cell_type": "code",
   "execution_count": 1,
   "metadata": {},
   "outputs": [],
   "source": [
    "#looking for other ways gender and airbnb country destination\n",
    "\n"
   ]
  }
 ],
 "metadata": {
  "kernelspec": {
   "display_name": "Python 3",
   "language": "python",
   "name": "python3"
  },
  "language_info": {
   "codemirror_mode": {
    "name": "ipython",
    "version": 3
   },
   "file_extension": ".py",
   "mimetype": "text/x-python",
   "name": "python",
   "nbconvert_exporter": "python",
   "pygments_lexer": "ipython3",
   "version": "3.6.12"
  }
 },
 "nbformat": 4,
 "nbformat_minor": 2
}
